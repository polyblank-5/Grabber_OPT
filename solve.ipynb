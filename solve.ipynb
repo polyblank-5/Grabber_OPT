{
 "cells": [
  {
   "cell_type": "code",
   "execution_count": 1,
   "metadata": {},
   "outputs": [],
   "source": [
    "from sympy import solve, cos, sin\n",
    "from sympy.abc import a,b,c,d,e,alpha,beta,gamma,delta,epsilon,w,x,y,z\n",
    "import numpy as np\n"
   ]
  },
  {
   "cell_type": "code",
   "execution_count": 2,
   "metadata": {},
   "outputs": [],
   "source": [
    "equation = [\n",
    "-w*(sin(a)+cos(a)*alpha)+z*(sin(e)+cos(e)*epsilon)+y*(sin(d+e)*(1-epsilon*delta)+cos(d+e)*(delta+epsilon))+x*(sin(c+d+e)*(1-delta*epsilon-epsilon*gamma-gamma)+cos(c+d+e)*(epsilon+delta+gamma-epsilon*gamma)),\n",
    "w*(sin(a)+cos(a)*alpha) + x*(sin(a+b)*(1-alpha*beta)+cos(a+b)*(beta+alpha)) - z*(sin(e)+cos(e)*epsilon)-y*(sin(d+e)*(1-epsilon*delta)+cos(d+e)*(delta+epsilon)),\n",
    "w*(sin(a)+cos(a)*alpha) + x*(sin(a+b)*(1-alpha*beta)+cos(a+b)*(beta+alpha)) + y*(sin(a+b+c)*(1-alpha*beta-alpha*gamma-gamma)+cos(a+b+c)*(alpha+beta+gamma-alpha*gamma))-z*(sin(e)+cos(e)*epsilon),\n",
    "a+b+c+d+e+alpha+beta+gamma+delta+epsilon-3*np.pi\n",
    "]"
   ]
  },
  {
   "cell_type": "code",
   "execution_count": 3,
   "metadata": {},
   "outputs": [],
   "source": [
    "solutions = solve(equation,[beta,gamma,delta,epsilon],dict=True)\n",
    "print(solutions)\n",
    "print(\"solved\")"
   ]
  }
 ],
 "metadata": {
  "kernelspec": {
   "display_name": ".venv",
   "language": "python",
   "name": "python3"
  },
  "language_info": {
   "codemirror_mode": {
    "name": "ipython",
    "version": 3
   },
   "file_extension": ".py",
   "mimetype": "text/x-python",
   "name": "python",
   "nbconvert_exporter": "python",
   "pygments_lexer": "ipython3",
   "version": "3.12.3"
  }
 },
 "nbformat": 4,
 "nbformat_minor": 2
}
